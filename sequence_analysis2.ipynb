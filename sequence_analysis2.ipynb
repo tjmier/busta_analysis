{
 "cells": [
  {
   "cell_type": "code",
   "execution_count": 1,
   "metadata": {},
   "outputs": [],
   "source": [
    "import biotite.sequence.io.fasta as bioseq\n",
    "import pandas as pd\n",
    "import numpy as np"
   ]
  },
  {
   "cell_type": "code",
   "execution_count": 8,
   "metadata": {},
   "outputs": [],
   "source": [
    "# Import sequences from FASTA file\n",
    "fasta_file = bioseq.FastaFile()\n",
    "fasta_file.read(\"sequences/p450_edit.fasta\")\n",
    "sequences = bioseq.get_sequences(fasta_file)\n",
    "\n",
    "# put headers in list\n",
    "headers = []\n",
    "for key in sequences.keys():\n",
    "    headers.append(key)\n",
    "\n",
    "# convert keys to pandas dataframe\n",
    "df = pd.DataFrame(headers, columns=['header'])\n",
    "\n",
    "# split by ~, - and / and put in new columns\n",
    "df = df['header'].str.split('~|-|/', expand=True)\n",
    "\n",
    "# Get unique values from columns 2, 3, and 4\n",
    "unique_values = pd.unique(df[[2, 3, 4]].values.ravel('K'))\n",
    "unique_values = unique_values[~pd.isna(unique_values)]\n",
    "\n",
    "# Create new columns for each unique value\n",
    "for value in unique_values:\n",
    "    df[value] = df[[2, 3, 4]].apply(lambda x: value in x.values, axis=1)\n",
    "\n",
    "# Drop original columns 2, 3, and 4\n",
    "df = df.drop(columns=[2, 3, 4])\n",
    "\n",
    "# Sort the new columns alphabetically\n",
    "new_columns = sorted(unique_values)\n",
    "all_columns = list(df.columns[:2]) + new_columns\n",
    "\n",
    "# Reorder the dataframe columns\n",
    "df = df[all_columns]\n",
    "\n",
    "df['full_header'] = headers\n",
    "df['full_header'] = df['full_header'].str.replace(r'[.~/-]', '_', regex=True)\n",
    "\n",
    "# move full_header to first column\n",
    "cols = df.columns.tolist()\n",
    "cols = cols[-1:] + cols[:-1]\n",
    "df = df[cols]"
   ]
  },
  {
   "cell_type": "code",
   "execution_count": null,
   "metadata": {},
   "outputs": [
    {
     "name": "stdout",
     "output_type": "stream",
     "text": [
      "                   sum\n",
      "C_28                47\n",
      "C_16                13\n",
      "C_24                11\n",
      "C_22                10\n",
      "C_6                  7\n",
      "C_2                  7\n",
      "C_23                 6\n",
      "C_29                 5\n",
      "C_7                  4\n",
      "C_3                  4\n",
      "unknown              4\n",
      "C_19                 4\n",
      "C_11                 4\n",
      "C_25                 3\n",
      "C_15                 3\n",
      "C_12                 3\n",
      "C_21                 2\n",
      "C_20                 2\n",
      "C_30                 2\n",
      "Baeyer_Villiger      1\n",
      "C_26                 1\n",
      "C_13                 1\n",
      "C_5                  1\n",
      "C_1                  1\n",
      "Unkown               1\n",
      "cycloartane          1\n",
      "14α_demethylation    1\n"
     ]
    }
   ],
   "source": [
    "# summate each columns [2::] and put into new df\n",
    "df2 = df.iloc[:, 2:]\n",
    "# Summate each column and sort the resulting series\n",
    "summed_series = df2.sum(axis=0).sort_values(ascending=False)\n",
    "\n",
    "# Convert the sorted series to a DataFrame if needed\n",
    "sorted_df = summed_series.to_frame(name='sum')\n",
    "\n",
    "print(sorted_df)\n"
   ]
  }
 ],
 "metadata": {
  "kernelspec": {
   "display_name": "busta",
   "language": "python",
   "name": "python3"
  },
  "language_info": {
   "codemirror_mode": {
    "name": "ipython",
    "version": 3
   },
   "file_extension": ".py",
   "mimetype": "text/x-python",
   "name": "python",
   "nbconvert_exporter": "python",
   "pygments_lexer": "ipython3",
   "version": "3.12.4"
  }
 },
 "nbformat": 4,
 "nbformat_minor": 2
}
